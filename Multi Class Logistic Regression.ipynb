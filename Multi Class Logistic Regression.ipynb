{
 "cells": [
  {
   "cell_type": "markdown",
   "metadata": {},
   "source": [
    "# Multi Class Logistic Regression using LIBLINEAR"
   ]
  },
  {
   "cell_type": "markdown",
   "metadata": {},
   "source": [
    "The data set consists of 30 samples from each of three species of Iris flower\n",
    "* Iris setosa \n",
    "* Iris virginica \n",
    "* Iris versicolor   \n",
    "\n",
    "And Two features for each sample\n",
    "* Petal length \n",
    "* Sepal Length   \n",
    "\n",
    "Based on this data I have trained a multi class logistic regression classifier using [liblinear](https://github.com/kei500/liblinear-ruby).   \n",
    "The original Data set had 50 samples each so I used 30 samples for training and 6 samples for  cross validation.You can find the data set [here](https://en.wikipedia.org/wiki/Iris_flower_data_set).\n"
   ]
  },
  {
   "cell_type": "markdown",
   "metadata": {},
   "source": [
    "## Training the Data"
   ]
  },
  {
   "cell_type": "code",
   "execution_count": 4,
   "metadata": {
    "collapsed": false
   },
   "outputs": [
    {
     "data": {
      "text/plain": [
       "#<Liblinear::Model:0x00000001185c58 @model=#<Liblinearswig::Model:0x00000001185c08 @__swigtype__=\"_p_model\">>"
      ]
     },
     "execution_count": 4,
     "metadata": {},
     "output_type": "execute_result"
    }
   ],
   "source": [
    "require 'nyaplot'\n",
    "require 'liblinear'\n",
    "setosa = [[5,1.6],[5.1,1.5],[5.7,1.5],[5.4,1.5],[4.9,1.5],[5.0,1.5],[4.6,1.4],[4.8, 1.4], [4.9,1.4],[4.9,1.4],[4.6,1.4],[4.4,1.4],[5.1,1.4],[4.8,1.4],[5.5,1.4],[4.6,1.4],[4.9,1.4],[5.0,1.3],[4.5,1.3],[5.1,1.4],[4.4,1.3],[4.7,1.3], [4.9,1.4], [4.4, 1.4], [4.4, 1.3],[4.5,1.3],[4.4, 1.3],[4.4,1.3],[5.5,1.3],[4.5, 1.3]]\n",
    "versicolor = [[6.6,4.4],[6.7,4.4],[6.2,4.3],[5.7,4.2],[5.7,4.2],[5.6,4.1],[5.6,4.1],[5.8,4.1],[5.5,4],[5.8,4],[6.1,4],[6.0,4],[5.5,4],[5.8,3.9],[5.6,3.9],[5.2,3.9],[5.5,3.8],[5.5,3.7],[5.6,3.6],[5.7,3.5],[5.0,3.5],[5.0,3.3],[5.7, 3.5], [5.6, 3.6], [5.6, 3.9], [5.8, 4.1],[5.9,4.2],[5.5,4.4],[5.4,4.5], [5.7, 4.5]]\n",
    "virginica = [[6.3,5.6],[6.2,5.4],[6.8,5.5],[6.5,5.5],[6.4,5.5],[6.3,5.6],[6.4,5.6],[6.4,5.6],[6.1,5.6],[6.3,5.6],[6.1,5.6],[6.7,5.6],[6.9,5.7],[6.7,5.7],[6.7,5.7],[6.5,5.8],[6.7,5.8],[7.2,5.8],[7.1,5.9],[6.8,5.9],[7.4,6.1],[7.3,6.3],[7.9,6.4],[7.7,6.9],[7.7,6.7],[7.6,6.6],[7.3,6.3],[7.2,6],[6.7,5.8],[7.2,5.8]]\n",
    "a = Array.new(30,1)\n",
    "trainlabel = a\n",
    "a = Array.new(30,2)\n",
    "trainlabel += a\n",
    "a = Array.new(30,3)\n",
    "trainlabel += a\n",
    "train_points= versicolor+setosa+virginica\n",
    "# Training the data set \n",
    "model = Liblinear.train(\n",
    "  { solver_type: Liblinear::L2R_LR },   # parameter\n",
    "  trainlabel,                       # labels (classes) of training data\n",
    "  train_points, # training data\n",
    ")"
   ]
  },
  {
   "cell_type": "markdown",
   "metadata": {},
   "source": [
    "## Plotting the training set"
   ]
  },
  {
   "cell_type": "code",
   "execution_count": 5,
   "metadata": {
    "collapsed": false
   },
   "outputs": [
    {
     "name": "stdout",
     "output_type": "stream",
     "text": [
      "This is the scatter plot of the training data we have used.\n"
     ]
    },
    {
     "data": {
      "text/html": [
       "<div id='vis-b633773e-6b53-4bbe-a533-2f3d3b1b333b'></div>\n",
       "<script>\n",
       "(function(){\n",
       "    var render = function(){\n",
       "        var model = {\"panes\":[{\"diagrams\":[{\"type\":\"scatter\",\"options\":{\"x\":\"data0\",\"y\":\"data1\",\"color\":\"#FFFF00\",\"tooltip_contents\":[\"setosa\"]},\"data\":\"8e2f79c9-e769-4c21-83b3-ed7b700180ed\"},{\"type\":\"scatter\",\"options\":{\"x\":\"data0\",\"y\":\"data1\",\"color\":\"#000\",\"tooltip_contents\":[\"versicolor\"]},\"data\":\"1099b942-6413-4112-a44e-e914c6cfd10e\"},{\"type\":\"scatter\",\"options\":{\"x\":\"data0\",\"y\":\"data1\",\"color\":\"#FF0000\",\"tooltip_contents\":[\"virginica\"]},\"data\":\"f7005b65-fbdb-46db-8a15-a0728c1f58a2\"}],\"options\":{\"x_label\":\"Sepal Length\",\"y_label\":\"Petal Length\",\"xrange\":[4,8],\"yrange\":[0,8],\"zoom\":true,\"width\":700}}],\"data\":{\"8e2f79c9-e769-4c21-83b3-ed7b700180ed\":[{\"data0\":5,\"data1\":1.6},{\"data0\":5.1,\"data1\":1.5},{\"data0\":5.7,\"data1\":1.5},{\"data0\":5.4,\"data1\":1.5},{\"data0\":4.9,\"data1\":1.5},{\"data0\":5.0,\"data1\":1.5},{\"data0\":4.6,\"data1\":1.4},{\"data0\":4.8,\"data1\":1.4},{\"data0\":4.9,\"data1\":1.4},{\"data0\":4.9,\"data1\":1.4},{\"data0\":4.6,\"data1\":1.4},{\"data0\":4.4,\"data1\":1.4},{\"data0\":5.1,\"data1\":1.4},{\"data0\":4.8,\"data1\":1.4},{\"data0\":5.5,\"data1\":1.4},{\"data0\":4.6,\"data1\":1.4},{\"data0\":4.9,\"data1\":1.4},{\"data0\":5.0,\"data1\":1.3},{\"data0\":4.5,\"data1\":1.3},{\"data0\":5.1,\"data1\":1.4},{\"data0\":4.4,\"data1\":1.3},{\"data0\":4.7,\"data1\":1.3},{\"data0\":4.9,\"data1\":1.4},{\"data0\":4.4,\"data1\":1.4},{\"data0\":4.4,\"data1\":1.3},{\"data0\":4.5,\"data1\":1.3},{\"data0\":4.4,\"data1\":1.3},{\"data0\":4.4,\"data1\":1.3},{\"data0\":5.5,\"data1\":1.3},{\"data0\":4.5,\"data1\":1.3}],\"1099b942-6413-4112-a44e-e914c6cfd10e\":[{\"data0\":6.6,\"data1\":4.4},{\"data0\":6.7,\"data1\":4.4},{\"data0\":6.2,\"data1\":4.3},{\"data0\":5.7,\"data1\":4.2},{\"data0\":5.7,\"data1\":4.2},{\"data0\":5.6,\"data1\":4.1},{\"data0\":5.6,\"data1\":4.1},{\"data0\":5.8,\"data1\":4.1},{\"data0\":5.5,\"data1\":4},{\"data0\":5.8,\"data1\":4},{\"data0\":6.1,\"data1\":4},{\"data0\":6.0,\"data1\":4},{\"data0\":5.5,\"data1\":4},{\"data0\":5.8,\"data1\":3.9},{\"data0\":5.6,\"data1\":3.9},{\"data0\":5.2,\"data1\":3.9},{\"data0\":5.5,\"data1\":3.8},{\"data0\":5.5,\"data1\":3.7},{\"data0\":5.6,\"data1\":3.6},{\"data0\":5.7,\"data1\":3.5},{\"data0\":5.0,\"data1\":3.5},{\"data0\":5.0,\"data1\":3.3},{\"data0\":5.7,\"data1\":3.5},{\"data0\":5.6,\"data1\":3.6},{\"data0\":5.6,\"data1\":3.9},{\"data0\":5.8,\"data1\":4.1},{\"data0\":5.9,\"data1\":4.2},{\"data0\":5.5,\"data1\":4.4},{\"data0\":5.4,\"data1\":4.5},{\"data0\":5.7,\"data1\":4.5}],\"f7005b65-fbdb-46db-8a15-a0728c1f58a2\":[{\"data0\":6.3,\"data1\":5.6},{\"data0\":6.2,\"data1\":5.4},{\"data0\":6.8,\"data1\":5.5},{\"data0\":6.5,\"data1\":5.5},{\"data0\":6.4,\"data1\":5.5},{\"data0\":6.3,\"data1\":5.6},{\"data0\":6.4,\"data1\":5.6},{\"data0\":6.4,\"data1\":5.6},{\"data0\":6.1,\"data1\":5.6},{\"data0\":6.3,\"data1\":5.6},{\"data0\":6.1,\"data1\":5.6},{\"data0\":6.7,\"data1\":5.6},{\"data0\":6.9,\"data1\":5.7},{\"data0\":6.7,\"data1\":5.7},{\"data0\":6.7,\"data1\":5.7},{\"data0\":6.5,\"data1\":5.8},{\"data0\":6.7,\"data1\":5.8},{\"data0\":7.2,\"data1\":5.8},{\"data0\":7.1,\"data1\":5.9},{\"data0\":6.8,\"data1\":5.9},{\"data0\":7.4,\"data1\":6.1},{\"data0\":7.3,\"data1\":6.3},{\"data0\":7.9,\"data1\":6.4},{\"data0\":7.7,\"data1\":6.9},{\"data0\":7.7,\"data1\":6.7},{\"data0\":7.6,\"data1\":6.6},{\"data0\":7.3,\"data1\":6.3},{\"data0\":7.2,\"data1\":6},{\"data0\":6.7,\"data1\":5.8},{\"data0\":7.2,\"data1\":5.8}]},\"extension\":[]}\n",
       "        var id_name = '#vis-b633773e-6b53-4bbe-a533-2f3d3b1b333b';\n",
       "        Nyaplot.core.parse(model, id_name);\n",
       "\n",
       "        require(['downloadable'], function(downloadable){\n",
       "          var svg = d3.select(id_name).select(\"svg\");\n",
       "\t  if(!svg.empty())\n",
       "\t    svg.call(downloadable().filename('fig'));\n",
       "\t});\n",
       "    };\n",
       "    if(window['Nyaplot']==undefined){\n",
       "        window.addEventListener('load_nyaplot', render, false);\n",
       "\treturn;\n",
       "    } else {\n",
       "       render();\n",
       "    }\n",
       "})();\n",
       "</script>\n"
      ],
      "text/plain": [
       "#<Nyaplot::Frame:0x000000017ff228 @properties={:panes=>[#<Nyaplot::Plot:0x00000000f26a48 @properties={:diagrams=>[#<Nyaplot::Diagram:0x00000000f1fa90 @properties={:type=>:scatter, :options=>{:x=>\"data0\", :y=>\"data1\", :color=>\"#FFFF00\", :tooltip_contents=>[:setosa]}, :data=>\"8e2f79c9-e769-4c21-83b3-ed7b700180ed\"}, @xrange=[4.4, 5.7], @yrange=[1.3, 1.6]>, #<Nyaplot::Diagram:0x00000001804318 @properties={:type=>:scatter, :options=>{:x=>\"data0\", :y=>\"data1\", :color=>\"#000\", :tooltip_contents=>[:versicolor]}, :data=>\"1099b942-6413-4112-a44e-e914c6cfd10e\"}, @xrange=[5.0, 6.7], @yrange=[3.3, 4.5]>, #<Nyaplot::Diagram:0x00000001800128 @properties={:type=>:scatter, :options=>{:x=>\"data0\", :y=>\"data1\", :color=>\"#FF0000\", :tooltip_contents=>[:virginica]}, :data=>\"f7005b65-fbdb-46db-8a15-a0728c1f58a2\"}, @xrange=[6.1, 7.9], @yrange=[5.4, 6.9]>], :options=>{:x_label=>\"Sepal Length\", :y_label=>\"Petal Length\", :xrange=>[4, 8], :yrange=>[0, 8], :zoom=>true, :width=>700}}>], :data=>{\"8e2f79c9-e769-4c21-83b3-ed7b700180ed\"=>#<Nyaplot::DataFrame:0x00000000f24630 @name=\"8e2f79c9-e769-4c21-83b3-ed7b700180ed\", @rows=[{:data0=>5, :data1=>1.6}, {:data0=>5.1, :data1=>1.5}, {:data0=>5.7, :data1=>1.5}, {:data0=>5.4, :data1=>1.5}, {:data0=>4.9, :data1=>1.5}, {:data0=>5.0, :data1=>1.5}, {:data0=>4.6, :data1=>1.4}, {:data0=>4.8, :data1=>1.4}, {:data0=>4.9, :data1=>1.4}, {:data0=>4.9, :data1=>1.4}, {:data0=>4.6, :data1=>1.4}, {:data0=>4.4, :data1=>1.4}, {:data0=>5.1, :data1=>1.4}, {:data0=>4.8, :data1=>1.4}, {:data0=>5.5, :data1=>1.4}, {:data0=>4.6, :data1=>1.4}, {:data0=>4.9, :data1=>1.4}, {:data0=>5.0, :data1=>1.3}, {:data0=>4.5, :data1=>1.3}, {:data0=>5.1, :data1=>1.4}, {:data0=>4.4, :data1=>1.3}, {:data0=>4.7, :data1=>1.3}, {:data0=>4.9, :data1=>1.4}, {:data0=>4.4, :data1=>1.4}, {:data0=>4.4, :data1=>1.3}, {:data0=>4.5, :data1=>1.3}, {:data0=>4.4, :data1=>1.3}, {:data0=>4.4, :data1=>1.3}, {:data0=>5.5, :data1=>1.3}, {:data0=>4.5, :data1=>1.3}]>, \"1099b942-6413-4112-a44e-e914c6cfd10e\"=>#<Nyaplot::DataFrame:0x00000000f1d0b0 @name=\"1099b942-6413-4112-a44e-e914c6cfd10e\", @rows=[{:data0=>6.6, :data1=>4.4}, {:data0=>6.7, :data1=>4.4}, {:data0=>6.2, :data1=>4.3}, {:data0=>5.7, :data1=>4.2}, {:data0=>5.7, :data1=>4.2}, {:data0=>5.6, :data1=>4.1}, {:data0=>5.6, :data1=>4.1}, {:data0=>5.8, :data1=>4.1}, {:data0=>5.5, :data1=>4}, {:data0=>5.8, :data1=>4}, {:data0=>6.1, :data1=>4}, {:data0=>6.0, :data1=>4}, {:data0=>5.5, :data1=>4}, {:data0=>5.8, :data1=>3.9}, {:data0=>5.6, :data1=>3.9}, {:data0=>5.2, :data1=>3.9}, {:data0=>5.5, :data1=>3.8}, {:data0=>5.5, :data1=>3.7}, {:data0=>5.6, :data1=>3.6}, {:data0=>5.7, :data1=>3.5}, {:data0=>5.0, :data1=>3.5}, {:data0=>5.0, :data1=>3.3}, {:data0=>5.7, :data1=>3.5}, {:data0=>5.6, :data1=>3.6}, {:data0=>5.6, :data1=>3.9}, {:data0=>5.8, :data1=>4.1}, {:data0=>5.9, :data1=>4.2}, {:data0=>5.5, :data1=>4.4}, {:data0=>5.4, :data1=>4.5}, {:data0=>5.7, :data1=>4.5}]>, \"f7005b65-fbdb-46db-8a15-a0728c1f58a2\"=>#<Nyaplot::DataFrame:0x00000001803670 @name=\"f7005b65-fbdb-46db-8a15-a0728c1f58a2\", @rows=[{:data0=>6.3, :data1=>5.6}, {:data0=>6.2, :data1=>5.4}, {:data0=>6.8, :data1=>5.5}, {:data0=>6.5, :data1=>5.5}, {:data0=>6.4, :data1=>5.5}, {:data0=>6.3, :data1=>5.6}, {:data0=>6.4, :data1=>5.6}, {:data0=>6.4, :data1=>5.6}, {:data0=>6.1, :data1=>5.6}, {:data0=>6.3, :data1=>5.6}, {:data0=>6.1, :data1=>5.6}, {:data0=>6.7, :data1=>5.6}, {:data0=>6.9, :data1=>5.7}, {:data0=>6.7, :data1=>5.7}, {:data0=>6.7, :data1=>5.7}, {:data0=>6.5, :data1=>5.8}, {:data0=>6.7, :data1=>5.8}, {:data0=>7.2, :data1=>5.8}, {:data0=>7.1, :data1=>5.9}, {:data0=>6.8, :data1=>5.9}, {:data0=>7.4, :data1=>6.1}, {:data0=>7.3, :data1=>6.3}, {:data0=>7.9, :data1=>6.4}, {:data0=>7.7, :data1=>6.9}, {:data0=>7.7, :data1=>6.7}, {:data0=>7.6, :data1=>6.6}, {:data0=>7.3, :data1=>6.3}, {:data0=>7.2, :data1=>6}, {:data0=>6.7, :data1=>5.8}, {:data0=>7.2, :data1=>5.8}]>}, :extension=>[]}>"
      ]
     },
     "metadata": {},
     "output_type": "display_data"
    }
   ],
   "source": [
    "x1=[];y1=[];\n",
    "x2=[];y2=[];\n",
    "x3=[];y3=[];\n",
    "i=0\n",
    "30.times do\n",
    "  x1.push(setosa[i][0])\n",
    "  y1.push(setosa[i][1])\n",
    "  x2.push(versicolor[i][0])\n",
    "  y2.push(versicolor[i][1])\n",
    "  x3.push(virginica[i][0])\n",
    "  y3.push(virginica[i][1])\n",
    "  i=i+1\n",
    "end\n",
    "puts \"This is the scatter plot of the training data we have used.\"\n",
    "plot = Nyaplot::Plot.new\n",
    "sc = plot.add(:scatter, x1, y1)\n",
    "sc.color('#FFFF00')\n",
    "sc.tooltip_contents([:setosa])\n",
    "sc = plot.add(:scatter, x2, y2)\n",
    "sc.color('#000')\n",
    "sc.tooltip_contents([:versicolor])\n",
    "sc = plot.add(:scatter, x3, y3)\n",
    "sc.color('#FF0000')\n",
    "sc.tooltip_contents([:virginica])\n",
    "plot.x_label(\"Sepal Length\")\n",
    "plot.y_label(\"Petal Length\")\n",
    "plot.xrange [4,8]\n",
    "plot.yrange [0,8]\n",
    "plot.show"
   ]
  },
  {
   "cell_type": "markdown",
   "metadata": {},
   "source": [
    "## Using the classifier on test set"
   ]
  },
  {
   "cell_type": "code",
   "execution_count": 6,
   "metadata": {
    "collapsed": false
   },
   "outputs": [
    {
     "data": {
      "text/html": [
       "<div id='vis-bc49e60a-1d9f-46cd-961e-6863c06acdf0'></div>\n",
       "<script>\n",
       "(function(){\n",
       "    var render = function(){\n",
       "        var model = {\"panes\":[{\"diagrams\":[{\"type\":\"scatter\",\"options\":{\"x\":\"data0\",\"y\":\"data1\",\"color\":\"#000\",\"tooltip_contents\":[\"versicolor\"]},\"data\":\"b4968de3-6acb-4463-b77c-268b3412656d\"},{\"type\":\"scatter\",\"options\":{\"x\":\"data0\",\"y\":\"data1\",\"color\":\"#FFFF00\",\"tooltip_contents\":[\"setosa\"]},\"data\":\"97633483-40cd-4478-acf6-a6b96646d0b8\"},{\"type\":\"scatter\",\"options\":{\"x\":\"data0\",\"y\":\"data1\",\"tooltip_contents\":[\"virginica\"],\"color\":\"#FF0000\"},\"data\":\"be655a55-8ecb-4cfe-9eec-7b80ae6eef1f\"}],\"options\":{\"x_label\":\"Sepal Length\",\"y_label\":\"Petal Length\",\"xrange\":[4,8],\"yrange\":[0,8],\"zoom\":true,\"width\":700}}],\"data\":{\"b4968de3-6acb-4463-b77c-268b3412656d\":[{\"data0\":5.1,\"data1\":3},{\"data0\":5.7,\"data1\":3.5},{\"data0\":5.6,\"data1\":3.6},{\"data0\":5.6,\"data1\":3.9},{\"data0\":5.8,\"data1\":4.1},{\"data0\":5.9,\"data1\":4.2}],\"97633483-40cd-4478-acf6-a6b96646d0b8\":[{\"data0\":4.6,\"data1\":1.0},{\"data0\":4.3,\"data1\":1.1},{\"data0\":4.9,\"data1\":1.4},{\"data0\":4.4,\"data1\":1.4},{\"data0\":4.4,\"data1\":1.3},{\"data0\":4.4,\"data1\":1.3},{\"data0\":4.5,\"data1\":1.3}],\"be655a55-8ecb-4cfe-9eec-7b80ae6eef1f\":[{\"data0\":6.3,\"data1\":4.9},{\"data0\":7.7,\"data1\":6.9},{\"data0\":7.7,\"data1\":6.7},{\"data0\":7.6,\"data1\":6.6},{\"data0\":7.3,\"data1\":6.3},{\"data0\":7.2,\"data1\":6},{\"data0\":6.7,\"data1\":5.8},{\"data0\":7.2,\"data1\":5.8}]},\"extension\":[]}\n",
       "        var id_name = '#vis-bc49e60a-1d9f-46cd-961e-6863c06acdf0';\n",
       "        Nyaplot.core.parse(model, id_name);\n",
       "\n",
       "        require(['downloadable'], function(downloadable){\n",
       "          var svg = d3.select(id_name).select(\"svg\");\n",
       "\t  if(!svg.empty())\n",
       "\t    svg.call(downloadable().filename('fig'));\n",
       "\t});\n",
       "    };\n",
       "    if(window['Nyaplot']==undefined){\n",
       "        window.addEventListener('load_nyaplot', render, false);\n",
       "\treturn;\n",
       "    } else {\n",
       "       render();\n",
       "    }\n",
       "})();\n",
       "</script>\n"
      ],
      "text/plain": [
       "#<Nyaplot::Frame:0x00000001aeda48 @properties={:panes=>[#<Nyaplot::Plot:0x00000001b01868 @properties={:diagrams=>[#<Nyaplot::Diagram:0x00000001b00210 @properties={:type=>:scatter, :options=>{:x=>\"data0\", :y=>\"data1\", :color=>\"#000\", :tooltip_contents=>[:versicolor]}, :data=>\"b4968de3-6acb-4463-b77c-268b3412656d\"}, @xrange=[5.1, 5.9], @yrange=[3, 4.2]>, #<Nyaplot::Diagram:0x00000001af9b40 @properties={:type=>:scatter, :options=>{:x=>\"data0\", :y=>\"data1\", :color=>\"#FFFF00\", :tooltip_contents=>[:setosa]}, :data=>\"97633483-40cd-4478-acf6-a6b96646d0b8\"}, @xrange=[4.3, 4.9], @yrange=[1.0, 1.4]>, #<Nyaplot::Diagram:0x00000001aeec90 @properties={:type=>:scatter, :options=>{:x=>\"data0\", :y=>\"data1\", :tooltip_contents=>[:virginica], :color=>\"#FF0000\"}, :data=>\"be655a55-8ecb-4cfe-9eec-7b80ae6eef1f\"}, @xrange=[6.3, 7.7], @yrange=[4.9, 6.9]>], :options=>{:x_label=>\"Sepal Length\", :y_label=>\"Petal Length\", :xrange=>[4, 8], :yrange=>[0, 8], :zoom=>true, :width=>700}}>], :data=>{\"b4968de3-6acb-4463-b77c-268b3412656d\"=>#<Nyaplot::DataFrame:0x00000001b01228 @name=\"b4968de3-6acb-4463-b77c-268b3412656d\", @rows=[{:data0=>5.1, :data1=>3}, {:data0=>5.7, :data1=>3.5}, {:data0=>5.6, :data1=>3.6}, {:data0=>5.6, :data1=>3.9}, {:data0=>5.8, :data1=>4.1}, {:data0=>5.9, :data1=>4.2}]>, \"97633483-40cd-4478-acf6-a6b96646d0b8\"=>#<Nyaplot::DataFrame:0x00000001afb0f8 @name=\"97633483-40cd-4478-acf6-a6b96646d0b8\", @rows=[{:data0=>4.6, :data1=>1.0}, {:data0=>4.3, :data1=>1.1}, {:data0=>4.9, :data1=>1.4}, {:data0=>4.4, :data1=>1.4}, {:data0=>4.4, :data1=>1.3}, {:data0=>4.4, :data1=>1.3}, {:data0=>4.5, :data1=>1.3}]>, \"be655a55-8ecb-4cfe-9eec-7b80ae6eef1f\"=>#<Nyaplot::DataFrame:0x00000001af8b78 @name=\"be655a55-8ecb-4cfe-9eec-7b80ae6eef1f\", @rows=[{:data0=>6.3, :data1=>4.9}, {:data0=>7.7, :data1=>6.9}, {:data0=>7.7, :data1=>6.7}, {:data0=>7.6, :data1=>6.6}, {:data0=>7.3, :data1=>6.3}, {:data0=>7.2, :data1=>6}, {:data0=>6.7, :data1=>5.8}, {:data0=>7.2, :data1=>5.8}]>}, :extension=>[]}>"
      ]
     },
     "metadata": {},
     "output_type": "display_data"
    }
   ],
   "source": [
    "setosa = [[4.6, 1.0], [4.3,1.1], [4.9,1.4], [4.4, 1.4], [4.4, 1.3], [4.4, 1.3], [4.5, 1.3]]\n",
    "versicolor = [[5.1, 3], [5.7, 3.5], [5.6, 3.6], [5.6, 3.9], [5.8, 4.1],[5.9,4.2],[6.3,4.9]]\n",
    "virginica = [[7.7,6.9],[7.7,6.7],[7.6,6.6],[7.3,6.3],[7.2,6],[6.7,5.8],[7.2,5.8]]\n",
    "test_set = versicolor+setosa+virginica\n",
    "x1=[];y1=[];\n",
    "x2=[];y2=[];\n",
    "x3=[];y3=[];\n",
    "\n",
    "# Classify the points appropriately\n",
    "i=0\n",
    "test_set.size.times do\n",
    "  a=test_set[i]\n",
    "  x1.push(a[0]) if Liblinear.predict(model, a) == 1\n",
    "  y1.push(a[1]) if Liblinear.predict(model, a) == 1\n",
    "  x2.push(a[0]) if Liblinear.predict(model, a) == 2\n",
    "  y2.push(a[1]) if Liblinear.predict(model, a) == 2\n",
    "  x3.push(a[0]) if Liblinear.predict(model, a) == 3\n",
    "  y3.push(a[1]) if Liblinear.predict(model, a) == 3\n",
    "  i=i+1\n",
    "end\n",
    "\n",
    "# point at 6.3,4.9 has been wrongly classified as virginica \n",
    "# accuracy 94.4%\n",
    "# plot the points\n",
    "plot = Nyaplot::Plot.new\n",
    "sc = plot.add(:scatter, x1, y1)\n",
    "sc.color('#000')\n",
    "sc.tooltip_contents([:versicolor])\n",
    "sc = plot.add(:scatter, x2, y2)\n",
    "sc.color('#FFFF00')\n",
    "sc.tooltip_contents([:setosa])\n",
    "sc = plot.add(:scatter, x3, y3)\n",
    "sc.tooltip_contents([:virginica])\n",
    "sc.color('#FF0000')\n",
    "plot.x_label(\"Sepal Length\")\n",
    "plot.y_label(\"Petal Length\")\n",
    "plot.xrange [4,8]\n",
    "plot.yrange [0,8]\n",
    "plot.show"
   ]
  }
 ],
 "metadata": {
  "kernelspec": {
   "display_name": "Ruby 2.2.1",
   "language": "ruby",
   "name": "ruby"
  },
  "language_info": {
   "file_extension": ".rb",
   "mimetype": "application/x-ruby",
   "name": "ruby",
   "version": "2.2.1"
  }
 },
 "nbformat": 4,
 "nbformat_minor": 0
}
