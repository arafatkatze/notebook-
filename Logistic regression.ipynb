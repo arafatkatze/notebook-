{
 "cells": [
  {
   "cell_type": "markdown",
   "metadata": {},
   "source": [
    "# Multi Class Logistic Regression using LIBLINEAR"
   ]
  },
  {
   "cell_type": "markdown",
   "metadata": {},
   "source": [
    "The data set consists of 30 samples from each of three species of Iris flower\n",
    "* Iris setosa \n",
    "* Iris virginica \n",
    "* Iris versicolor   \n",
    "\n",
    "And Two features for each sample\n",
    "* Petal length \n",
    "* Sepal Length   \n",
    "\n",
    "Based on this data I have trained a multi class logistic regression classifier using [liblinear](https://github.com/kei500/liblinear-ruby).   \n",
    "The original Data set had 50 samples each so I used 30 samples for training and 6 samples for  cross validation.You can find the data set [here](https://en.wikipedia.org/wiki/Iris_flower_data_set).\n"
   ]
  },
  {
   "cell_type": "markdown",
   "metadata": {},
   "source": [
    "## Training the Data"
   ]
  },
  {
   "cell_type": "code",
   "execution_count": 1,
   "metadata": {
    "collapsed": false
   },
   "outputs": [
    {
     "data": {
      "application/javascript": [
       "if(window['d3'] === undefined ||\n",
       "   window['Nyaplot'] === undefined){\n",
       "    var path = {\"d3\":\"https://cdnjs.cloudflare.com/ajax/libs/d3/3.5.5/d3.min\",\"downloadable\":\"http://cdn.rawgit.com/domitry/d3-downloadable/master/d3-downloadable\"};\n",
       "\n",
       "\n",
       "\n",
       "    var shim = {\"d3\":{\"exports\":\"d3\"},\"downloadable\":{\"exports\":\"downloadable\"}};\n",
       "\n",
       "    require.config({paths: path, shim:shim});\n",
       "\n",
       "\n",
       "require(['d3'], function(d3){window['d3']=d3;console.log('finished loading d3');require(['downloadable'], function(downloadable){window['downloadable']=downloadable;console.log('finished loading downloadable');\n",
       "\n",
       "\tvar script = d3.select(\"head\")\n",
       "\t    .append(\"script\")\n",
       "\t    .attr(\"src\", \"http://cdn.rawgit.com/domitry/Nyaplotjs/master/release/nyaplot.js\")\n",
       "\t    .attr(\"async\", true);\n",
       "\n",
       "\tscript[0][0].onload = script[0][0].onreadystatechange = function(){\n",
       "\n",
       "\n",
       "\t    var event = document.createEvent(\"HTMLEvents\");\n",
       "\t    event.initEvent(\"load_nyaplot\",false,false);\n",
       "\t    window.dispatchEvent(event);\n",
       "\t    console.log('Finished loading Nyaplotjs');\n",
       "\n",
       "\t};\n",
       "\n",
       "\n",
       "});});\n",
       "}\n"
      ],
      "text/plain": [
       "\"if(window['d3'] === undefined ||\\n   window['Nyaplot'] === undefined){\\n    var path = {\\\"d3\\\":\\\"https://cdnjs.cloudflare.com/ajax/libs/d3/3.5.5/d3.min\\\",\\\"downloadable\\\":\\\"http://cdn.rawgit.com/domitry/d3-downloadable/master/d3-downloadable\\\"};\\n\\n\\n\\n    var shim = {\\\"d3\\\":{\\\"exports\\\":\\\"d3\\\"},\\\"downloadable\\\":{\\\"exports\\\":\\\"downloadable\\\"}};\\n\\n    require.config({paths: path, shim:shim});\\n\\n\\nrequire(['d3'], function(d3){window['d3']=d3;console.log('finished loading d3');require(['downloadable'], function(downloadable){window['downloadable']=downloadable;console.log('finished loading downloadable');\\n\\n\\tvar script = d3.select(\\\"head\\\")\\n\\t    .append(\\\"script\\\")\\n\\t    .attr(\\\"src\\\", \\\"http://cdn.rawgit.com/domitry/Nyaplotjs/master/release/nyaplot.js\\\")\\n\\t    .attr(\\\"async\\\", true);\\n\\n\\tscript[0][0].onload = script[0][0].onreadystatechange = function(){\\n\\n\\n\\t    var event = document.createEvent(\\\"HTMLEvents\\\");\\n\\t    event.initEvent(\\\"load_nyaplot\\\",false,false);\\n\\t    window.dispatchEvent(event);\\n\\t    console.log('Finished loading Nyaplotjs');\\n\\n\\t};\\n\\n\\n});});\\n}\\n\""
      ]
     },
     "metadata": {},
     "output_type": "display_data"
    },
    {
     "data": {
      "text/plain": [
       "#<Liblinear::Model:0x0000000268e4d8 @model=#<Liblinearswig::Model:0x0000000268de98 @__swigtype__=\"_p_model\">>"
      ]
     },
     "execution_count": 1,
     "metadata": {},
     "output_type": "execute_result"
    }
   ],
   "source": [
    "require 'nyaplot'\n",
    "require 'liblinear'\n",
    "setosa = [[5,1.6],[5.1,1.5],[5.7,1.5],[5.4,1.5],[4.9,1.5],[5.0,1.5],[4.6,1.4],[4.8, 1.4], [4.9,1.4],[4.9,1.4],[4.6,1.4],[4.4,1.4],[5.1,1.4],[4.8,1.4],[5.5,1.4],[4.6,1.4],[4.9,1.4],[5.0,1.3],[4.5,1.3],[5.1,1.4],[4.4,1.3],[4.7,1.3], [4.9,1.4], [4.4, 1.4], [4.4, 1.3],[4.5,1.3],[4.4, 1.3],[4.4,1.3],[5.5,1.3],[4.5, 1.3]]\n",
    "versicolor = [[6.6,4.4],[6.7,4.4],[6.2,4.3],[5.7,4.2],[5.7,4.2],[5.6,4.1],[5.6,4.1],[5.8,4.1],[5.5,4],[5.8,4],[6.1,4],[6.0,4],[5.5,4],[5.8,3.9],[5.6,3.9],[5.2,3.9],[5.5,3.8],[5.5,3.7],[5.6,3.6],[5.7,3.5],[5.0,3.5],[5.0,3.3],[5.7, 3.5], [5.6, 3.6], [5.6, 3.9], [5.8, 4.1],[5.9,4.2],[5.5,4.4],[5.4,4.5], [5.7, 4.5]]\n",
    "virginica = [[6.3,5.6],[6.2,5.4],[6.8,5.5],[6.5,5.5],[6.4,5.5],[6.3,5.6],[6.4,5.6],[6.4,5.6],[6.1,5.6],[6.3,5.6],[6.1,5.6],[6.7,5.6],[6.9,5.7],[6.7,5.7],[6.7,5.7],[6.5,5.8],[6.7,5.8],[7.2,5.8],[7.1,5.9],[6.8,5.9],[7.4,6.1],[7.3,6.3],[7.9,6.4],[7.7,6.9],[7.7,6.7],[7.6,6.6],[7.3,6.3],[7.2,6],[6.7,5.8],[7.2,5.8]]\n",
    "a = Array.new(30,1)\n",
    "trainlabel = a\n",
    "a = Array.new(30,2)\n",
    "trainlabel += a\n",
    "a = Array.new(30,3)\n",
    "trainlabel += a\n",
    "train_points= versicolor+setosa+virginica\n",
    "# Training the data set \n",
    "model = Liblinear.train(\n",
    "  { solver_type: Liblinear::L2R_LR },   # parameter\n",
    "  trainlabel,                       # labels (classes) of training data\n",
    "  train_points, # training data\n",
    ")"
   ]
  },
  {
   "cell_type": "markdown",
   "metadata": {},
   "source": [
    "## Plotting the training set"
   ]
  },
  {
   "cell_type": "code",
   "execution_count": 2,
   "metadata": {
    "collapsed": false
   },
   "outputs": [
    {
     "name": "stdout",
     "output_type": "stream",
     "text": [
      "This is the scatter plot of the training data we have used.\n"
     ]
    },
    {
     "data": {
      "text/html": [
       "<div id='vis-87c93053-2195-4b65-9fad-4f789a843a26'></div>\n",
       "<script>\n",
       "(function(){\n",
       "    var render = function(){\n",
       "        var model = {\"panes\":[{\"diagrams\":[{\"type\":\"scatter\",\"options\":{\"x\":\"data0\",\"y\":\"data1\",\"color\":\"#FFFF00\",\"tooltip_contents\":[\"setosa\"]},\"data\":\"a0b19761-513e-4213-980d-2402f59897f1\"},{\"type\":\"scatter\",\"options\":{\"x\":\"data0\",\"y\":\"data1\",\"color\":\"#000\",\"tooltip_contents\":[\"versicolor\"]},\"data\":\"86f2ede7-3155-4f0e-8141-9e490957e552\"},{\"type\":\"scatter\",\"options\":{\"x\":\"data0\",\"y\":\"data1\",\"color\":\"#FF0000\",\"tooltip_contents\":[\"virginica\"]},\"data\":\"d6c334d6-d79e-4892-9ae3-997924c5595a\"}],\"options\":{\"x_label\":\"Sepal Length\",\"y_label\":\"Petal Length\",\"xrange\":[4,8],\"yrange\":[0,8],\"zoom\":true,\"width\":700}}],\"data\":{\"a0b19761-513e-4213-980d-2402f59897f1\":[{\"data0\":5,\"data1\":1.6},{\"data0\":5.1,\"data1\":1.5},{\"data0\":5.7,\"data1\":1.5},{\"data0\":5.4,\"data1\":1.5},{\"data0\":4.9,\"data1\":1.5},{\"data0\":5.0,\"data1\":1.5},{\"data0\":4.6,\"data1\":1.4},{\"data0\":4.8,\"data1\":1.4},{\"data0\":4.9,\"data1\":1.4},{\"data0\":4.9,\"data1\":1.4},{\"data0\":4.6,\"data1\":1.4},{\"data0\":4.4,\"data1\":1.4},{\"data0\":5.1,\"data1\":1.4},{\"data0\":4.8,\"data1\":1.4},{\"data0\":5.5,\"data1\":1.4},{\"data0\":4.6,\"data1\":1.4},{\"data0\":4.9,\"data1\":1.4},{\"data0\":5.0,\"data1\":1.3},{\"data0\":4.5,\"data1\":1.3},{\"data0\":5.1,\"data1\":1.4},{\"data0\":4.4,\"data1\":1.3},{\"data0\":4.7,\"data1\":1.3},{\"data0\":4.9,\"data1\":1.4},{\"data0\":4.4,\"data1\":1.4},{\"data0\":4.4,\"data1\":1.3},{\"data0\":4.5,\"data1\":1.3},{\"data0\":4.4,\"data1\":1.3},{\"data0\":4.4,\"data1\":1.3},{\"data0\":5.5,\"data1\":1.3},{\"data0\":4.5,\"data1\":1.3}],\"86f2ede7-3155-4f0e-8141-9e490957e552\":[{\"data0\":6.6,\"data1\":4.4},{\"data0\":6.7,\"data1\":4.4},{\"data0\":6.2,\"data1\":4.3},{\"data0\":5.7,\"data1\":4.2},{\"data0\":5.7,\"data1\":4.2},{\"data0\":5.6,\"data1\":4.1},{\"data0\":5.6,\"data1\":4.1},{\"data0\":5.8,\"data1\":4.1},{\"data0\":5.5,\"data1\":4},{\"data0\":5.8,\"data1\":4},{\"data0\":6.1,\"data1\":4},{\"data0\":6.0,\"data1\":4},{\"data0\":5.5,\"data1\":4},{\"data0\":5.8,\"data1\":3.9},{\"data0\":5.6,\"data1\":3.9},{\"data0\":5.2,\"data1\":3.9},{\"data0\":5.5,\"data1\":3.8},{\"data0\":5.5,\"data1\":3.7},{\"data0\":5.6,\"data1\":3.6},{\"data0\":5.7,\"data1\":3.5},{\"data0\":5.0,\"data1\":3.5},{\"data0\":5.0,\"data1\":3.3},{\"data0\":5.7,\"data1\":3.5},{\"data0\":5.6,\"data1\":3.6},{\"data0\":5.6,\"data1\":3.9},{\"data0\":5.8,\"data1\":4.1},{\"data0\":5.9,\"data1\":4.2},{\"data0\":5.5,\"data1\":4.4},{\"data0\":5.4,\"data1\":4.5},{\"data0\":5.7,\"data1\":4.5}],\"d6c334d6-d79e-4892-9ae3-997924c5595a\":[{\"data0\":6.3,\"data1\":5.6},{\"data0\":6.2,\"data1\":5.4},{\"data0\":6.8,\"data1\":5.5},{\"data0\":6.5,\"data1\":5.5},{\"data0\":6.4,\"data1\":5.5},{\"data0\":6.3,\"data1\":5.6},{\"data0\":6.4,\"data1\":5.6},{\"data0\":6.4,\"data1\":5.6},{\"data0\":6.1,\"data1\":5.6},{\"data0\":6.3,\"data1\":5.6},{\"data0\":6.1,\"data1\":5.6},{\"data0\":6.7,\"data1\":5.6},{\"data0\":6.9,\"data1\":5.7},{\"data0\":6.7,\"data1\":5.7},{\"data0\":6.7,\"data1\":5.7},{\"data0\":6.5,\"data1\":5.8},{\"data0\":6.7,\"data1\":5.8},{\"data0\":7.2,\"data1\":5.8},{\"data0\":7.1,\"data1\":5.9},{\"data0\":6.8,\"data1\":5.9},{\"data0\":7.4,\"data1\":6.1},{\"data0\":7.3,\"data1\":6.3},{\"data0\":7.9,\"data1\":6.4},{\"data0\":7.7,\"data1\":6.9},{\"data0\":7.7,\"data1\":6.7},{\"data0\":7.6,\"data1\":6.6},{\"data0\":7.3,\"data1\":6.3},{\"data0\":7.2,\"data1\":6},{\"data0\":6.7,\"data1\":5.8},{\"data0\":7.2,\"data1\":5.8}]},\"extension\":[]}\n",
       "        var id_name = '#vis-87c93053-2195-4b65-9fad-4f789a843a26';\n",
       "        Nyaplot.core.parse(model, id_name);\n",
       "\n",
       "        require(['downloadable'], function(downloadable){\n",
       "          var svg = d3.select(id_name).select(\"svg\");\n",
       "\t  if(!svg.empty())\n",
       "\t    svg.call(downloadable().filename('fig'));\n",
       "\t});\n",
       "    };\n",
       "    if(window['Nyaplot']==undefined){\n",
       "        window.addEventListener('load_nyaplot', render, false);\n",
       "\treturn;\n",
       "    } else {\n",
       "       render();\n",
       "    }\n",
       "})();\n",
       "</script>\n"
      ],
      "text/plain": [
       "#<Nyaplot::Frame:0x00000002460e68 @properties={:panes=>[#<Nyaplot::Plot:0x00000002479210 @properties={:diagrams=>[#<Nyaplot::Diagram:0x00000002472f50 @properties={:type=>:scatter, :options=>{:x=>\"data0\", :y=>\"data1\", :color=>\"#FFFF00\", :tooltip_contents=>[:setosa]}, :data=>\"a0b19761-513e-4213-980d-2402f59897f1\"}, @xrange=[4.4, 5.7], @yrange=[1.3, 1.6]>, #<Nyaplot::Diagram:0x000000024690e0 @properties={:type=>:scatter, :options=>{:x=>\"data0\", :y=>\"data1\", :color=>\"#000\", :tooltip_contents=>[:versicolor]}, :data=>\"86f2ede7-3155-4f0e-8141-9e490957e552\"}, @xrange=[5.0, 6.7], @yrange=[3.3, 4.5]>, #<Nyaplot::Diagram:0x00000002461bd8 @properties={:type=>:scatter, :options=>{:x=>\"data0\", :y=>\"data1\", :color=>\"#FF0000\", :tooltip_contents=>[:virginica]}, :data=>\"d6c334d6-d79e-4892-9ae3-997924c5595a\"}, @xrange=[6.1, 7.9], @yrange=[5.4, 6.9]>], :options=>{:x_label=>\"Sepal Length\", :y_label=>\"Petal Length\", :xrange=>[4, 8], :yrange=>[0, 8], :zoom=>true, :width=>700}}>], :data=>{\"a0b19761-513e-4213-980d-2402f59897f1\"=>#<Nyaplot::DataFrame:0x00000002478590 @name=\"a0b19761-513e-4213-980d-2402f59897f1\", @rows=[{:data0=>5, :data1=>1.6}, {:data0=>5.1, :data1=>1.5}, {:data0=>5.7, :data1=>1.5}, {:data0=>5.4, :data1=>1.5}, {:data0=>4.9, :data1=>1.5}, {:data0=>5.0, :data1=>1.5}, {:data0=>4.6, :data1=>1.4}, {:data0=>4.8, :data1=>1.4}, {:data0=>4.9, :data1=>1.4}, {:data0=>4.9, :data1=>1.4}, {:data0=>4.6, :data1=>1.4}, {:data0=>4.4, :data1=>1.4}, {:data0=>5.1, :data1=>1.4}, {:data0=>4.8, :data1=>1.4}, {:data0=>5.5, :data1=>1.4}, {:data0=>4.6, :data1=>1.4}, {:data0=>4.9, :data1=>1.4}, {:data0=>5.0, :data1=>1.3}, {:data0=>4.5, :data1=>1.3}, {:data0=>5.1, :data1=>1.4}, {:data0=>4.4, :data1=>1.3}, {:data0=>4.7, :data1=>1.3}, {:data0=>4.9, :data1=>1.4}, {:data0=>4.4, :data1=>1.4}, {:data0=>4.4, :data1=>1.3}, {:data0=>4.5, :data1=>1.3}, {:data0=>4.4, :data1=>1.3}, {:data0=>4.4, :data1=>1.3}, {:data0=>5.5, :data1=>1.3}, {:data0=>4.5, :data1=>1.3}]>, \"86f2ede7-3155-4f0e-8141-9e490957e552\"=>#<Nyaplot::DataFrame:0x00000002471010 @name=\"86f2ede7-3155-4f0e-8141-9e490957e552\", @rows=[{:data0=>6.6, :data1=>4.4}, {:data0=>6.7, :data1=>4.4}, {:data0=>6.2, :data1=>4.3}, {:data0=>5.7, :data1=>4.2}, {:data0=>5.7, :data1=>4.2}, {:data0=>5.6, :data1=>4.1}, {:data0=>5.6, :data1=>4.1}, {:data0=>5.8, :data1=>4.1}, {:data0=>5.5, :data1=>4}, {:data0=>5.8, :data1=>4}, {:data0=>6.1, :data1=>4}, {:data0=>6.0, :data1=>4}, {:data0=>5.5, :data1=>4}, {:data0=>5.8, :data1=>3.9}, {:data0=>5.6, :data1=>3.9}, {:data0=>5.2, :data1=>3.9}, {:data0=>5.5, :data1=>3.8}, {:data0=>5.5, :data1=>3.7}, {:data0=>5.6, :data1=>3.6}, {:data0=>5.7, :data1=>3.5}, {:data0=>5.0, :data1=>3.5}, {:data0=>5.0, :data1=>3.3}, {:data0=>5.7, :data1=>3.5}, {:data0=>5.6, :data1=>3.6}, {:data0=>5.6, :data1=>3.9}, {:data0=>5.8, :data1=>4.1}, {:data0=>5.9, :data1=>4.2}, {:data0=>5.5, :data1=>4.4}, {:data0=>5.4, :data1=>4.5}, {:data0=>5.7, :data1=>4.5}]>, \"d6c334d6-d79e-4892-9ae3-997924c5595a\"=>#<Nyaplot::DataFrame:0x00000002466e08 @name=\"d6c334d6-d79e-4892-9ae3-997924c5595a\", @rows=[{:data0=>6.3, :data1=>5.6}, {:data0=>6.2, :data1=>5.4}, {:data0=>6.8, :data1=>5.5}, {:data0=>6.5, :data1=>5.5}, {:data0=>6.4, :data1=>5.5}, {:data0=>6.3, :data1=>5.6}, {:data0=>6.4, :data1=>5.6}, {:data0=>6.4, :data1=>5.6}, {:data0=>6.1, :data1=>5.6}, {:data0=>6.3, :data1=>5.6}, {:data0=>6.1, :data1=>5.6}, {:data0=>6.7, :data1=>5.6}, {:data0=>6.9, :data1=>5.7}, {:data0=>6.7, :data1=>5.7}, {:data0=>6.7, :data1=>5.7}, {:data0=>6.5, :data1=>5.8}, {:data0=>6.7, :data1=>5.8}, {:data0=>7.2, :data1=>5.8}, {:data0=>7.1, :data1=>5.9}, {:data0=>6.8, :data1=>5.9}, {:data0=>7.4, :data1=>6.1}, {:data0=>7.3, :data1=>6.3}, {:data0=>7.9, :data1=>6.4}, {:data0=>7.7, :data1=>6.9}, {:data0=>7.7, :data1=>6.7}, {:data0=>7.6, :data1=>6.6}, {:data0=>7.3, :data1=>6.3}, {:data0=>7.2, :data1=>6}, {:data0=>6.7, :data1=>5.8}, {:data0=>7.2, :data1=>5.8}]>}, :extension=>[]}>"
      ]
     },
     "metadata": {},
     "output_type": "display_data"
    }
   ],
   "source": [
    "x1=[];y1=[];\n",
    "x2=[];y2=[];\n",
    "x3=[];y3=[];\n",
    "i=0\n",
    "30.times do\n",
    "  x1.push(setosa[i][0])\n",
    "  y1.push(setosa[i][1])\n",
    "  x2.push(versicolor[i][0])\n",
    "  y2.push(versicolor[i][1])\n",
    "  x3.push(virginica[i][0])\n",
    "  y3.push(virginica[i][1])\n",
    "  i=i+1\n",
    "end\n",
    "puts \"This is the scatter plot of the training data we have used.\"\n",
    "plot = Nyaplot::Plot.new\n",
    "sc = plot.add(:scatter, x1, y1)\n",
    "sc.color('#FFFF00')\n",
    "sc.tooltip_contents([:setosa])\n",
    "sc = plot.add(:scatter, x2, y2)\n",
    "sc.color('#000')\n",
    "sc.tooltip_contents([:versicolor])\n",
    "sc = plot.add(:scatter, x3, y3)\n",
    "sc.color('#FF0000')\n",
    "sc.tooltip_contents([:virginica])\n",
    "plot.x_label(\"Sepal Length\")\n",
    "plot.y_label(\"Petal Length\")\n",
    "plot.xrange [4,8]\n",
    "plot.yrange [0,8]\n",
    "plot.show"
   ]
  },
  {
   "cell_type": "markdown",
   "metadata": {},
   "source": [
    "## Using the classifier on test set"
   ]
  },
  {
   "cell_type": "code",
   "execution_count": 3,
   "metadata": {
    "collapsed": false
   },
   "outputs": [
    {
     "data": {
      "text/html": [
       "<div id='vis-e43591c8-7b9a-45d0-b7e9-ef2a9d7d973f'></div>\n",
       "<script>\n",
       "(function(){\n",
       "    var render = function(){\n",
       "        var model = {\"panes\":[{\"diagrams\":[{\"type\":\"scatter\",\"options\":{\"x\":\"data0\",\"y\":\"data1\",\"color\":\"#000\",\"tooltip_contents\":[\"versicolor\"]},\"data\":\"97330005-5766-4dfd-b7ac-ec56f4c8e044\"},{\"type\":\"scatter\",\"options\":{\"x\":\"data0\",\"y\":\"data1\",\"color\":\"#FFFF00\",\"tooltip_contents\":[\"setosa\"]},\"data\":\"470634a0-c259-4e55-bd8d-f0b60f7cfda8\"},{\"type\":\"scatter\",\"options\":{\"x\":\"data0\",\"y\":\"data1\",\"tooltip_contents\":[\"virginica\"],\"color\":\"#FF0000\"},\"data\":\"bc1cbeb5-cb0e-42bf-b85b-ae1bf3c3dd6b\"}],\"options\":{\"x_label\":\"Sepal Length\",\"y_label\":\"Petal Length\",\"xrange\":[4,8],\"yrange\":[0,8],\"zoom\":true,\"width\":700}}],\"data\":{\"97330005-5766-4dfd-b7ac-ec56f4c8e044\":[{\"data0\":5.1,\"data1\":3},{\"data0\":5.7,\"data1\":3.5},{\"data0\":5.6,\"data1\":3.6},{\"data0\":5.6,\"data1\":3.9},{\"data0\":5.8,\"data1\":4.1},{\"data0\":5.9,\"data1\":4.2}],\"470634a0-c259-4e55-bd8d-f0b60f7cfda8\":[{\"data0\":4.6,\"data1\":1.0},{\"data0\":4.3,\"data1\":1.1},{\"data0\":4.9,\"data1\":1.4},{\"data0\":4.4,\"data1\":1.4},{\"data0\":4.4,\"data1\":1.3},{\"data0\":4.4,\"data1\":1.3},{\"data0\":4.5,\"data1\":1.3}],\"bc1cbeb5-cb0e-42bf-b85b-ae1bf3c3dd6b\":[{\"data0\":6.3,\"data1\":4.9},{\"data0\":7.7,\"data1\":6.9},{\"data0\":7.7,\"data1\":6.7},{\"data0\":7.6,\"data1\":6.6},{\"data0\":7.3,\"data1\":6.3},{\"data0\":7.2,\"data1\":6},{\"data0\":6.7,\"data1\":5.8},{\"data0\":7.2,\"data1\":5.8}]},\"extension\":[]}\n",
       "        var id_name = '#vis-e43591c8-7b9a-45d0-b7e9-ef2a9d7d973f';\n",
       "        Nyaplot.core.parse(model, id_name);\n",
       "\n",
       "        require(['downloadable'], function(downloadable){\n",
       "          var svg = d3.select(id_name).select(\"svg\");\n",
       "\t  if(!svg.empty())\n",
       "\t    svg.call(downloadable().filename('fig'));\n",
       "\t});\n",
       "    };\n",
       "    if(window['Nyaplot']==undefined){\n",
       "        window.addEventListener('load_nyaplot', render, false);\n",
       "\treturn;\n",
       "    } else {\n",
       "       render();\n",
       "    }\n",
       "})();\n",
       "</script>\n"
      ],
      "text/plain": [
       "#<Nyaplot::Frame:0x000000030317b0 @properties={:panes=>[#<Nyaplot::Plot:0x0000000303a860 @properties={:diagrams=>[#<Nyaplot::Diagram:0x000000030392a8 @properties={:type=>:scatter, :options=>{:x=>\"data0\", :y=>\"data1\", :color=>\"#000\", :tooltip_contents=>[:versicolor]}, :data=>\"97330005-5766-4dfd-b7ac-ec56f4c8e044\"}, @xrange=[5.1, 5.9], @yrange=[3, 4.2]>, #<Nyaplot::Diagram:0x00000003033f38 @properties={:type=>:scatter, :options=>{:x=>\"data0\", :y=>\"data1\", :color=>\"#FFFF00\", :tooltip_contents=>[:setosa]}, :data=>\"470634a0-c259-4e55-bd8d-f0b60f7cfda8\"}, @xrange=[4.3, 4.9], @yrange=[1.0, 1.4]>, #<Nyaplot::Diagram:0x00000003031ff8 @properties={:type=>:scatter, :options=>{:x=>\"data0\", :y=>\"data1\", :tooltip_contents=>[:virginica], :color=>\"#FF0000\"}, :data=>\"bc1cbeb5-cb0e-42bf-b85b-ae1bf3c3dd6b\"}, @xrange=[6.3, 7.7], @yrange=[4.9, 6.9]>], :options=>{:x_label=>\"Sepal Length\", :y_label=>\"Petal Length\", :xrange=>[4, 8], :yrange=>[0, 8], :zoom=>true, :width=>700}}>], :data=>{\"97330005-5766-4dfd-b7ac-ec56f4c8e044\"=>#<Nyaplot::DataFrame:0x00000003039fc8 @name=\"97330005-5766-4dfd-b7ac-ec56f4c8e044\", @rows=[{:data0=>5.1, :data1=>3}, {:data0=>5.7, :data1=>3.5}, {:data0=>5.6, :data1=>3.6}, {:data0=>5.6, :data1=>3.9}, {:data0=>5.8, :data1=>4.1}, {:data0=>5.9, :data1=>4.2}]>, \"470634a0-c259-4e55-bd8d-f0b60f7cfda8\"=>#<Nyaplot::DataFrame:0x00000003038858 @name=\"470634a0-c259-4e55-bd8d-f0b60f7cfda8\", @rows=[{:data0=>4.6, :data1=>1.0}, {:data0=>4.3, :data1=>1.1}, {:data0=>4.9, :data1=>1.4}, {:data0=>4.4, :data1=>1.4}, {:data0=>4.4, :data1=>1.3}, {:data0=>4.4, :data1=>1.3}, {:data0=>4.5, :data1=>1.3}]>, \"bc1cbeb5-cb0e-42bf-b85b-ae1bf3c3dd6b\"=>#<Nyaplot::DataFrame:0x000000030333d0 @name=\"bc1cbeb5-cb0e-42bf-b85b-ae1bf3c3dd6b\", @rows=[{:data0=>6.3, :data1=>4.9}, {:data0=>7.7, :data1=>6.9}, {:data0=>7.7, :data1=>6.7}, {:data0=>7.6, :data1=>6.6}, {:data0=>7.3, :data1=>6.3}, {:data0=>7.2, :data1=>6}, {:data0=>6.7, :data1=>5.8}, {:data0=>7.2, :data1=>5.8}]>}, :extension=>[]}>"
      ]
     },
     "metadata": {},
     "output_type": "display_data"
    }
   ],
   "source": [
    "setosa = [[4.6, 1.0], [4.3,1.1], [4.9,1.4], [4.4, 1.4], [4.4, 1.3], [4.4, 1.3], [4.5, 1.3]]\n",
    "versicolor = [[5.1, 3], [5.7, 3.5], [5.6, 3.6], [5.6, 3.9], [5.8, 4.1],[5.9,4.2],[6.3,4.9]]\n",
    "virginica = [[7.7,6.9],[7.7,6.7],[7.6,6.6],[7.3,6.3],[7.2,6],[6.7,5.8],[7.2,5.8]]\n",
    "test_set = versicolor+setosa+virginica\n",
    "x1=[];y1=[];\n",
    "x2=[];y2=[];\n",
    "x3=[];y3=[];\n",
    "\n",
    "# Classify the points appropriately\n",
    "i=0\n",
    "test_set.size.times do\n",
    "  a=test_set[i]\n",
    "  x1.push(a[0]) if Liblinear.predict(model, a) == 1\n",
    "  y1.push(a[1]) if Liblinear.predict(model, a) == 1\n",
    "  x2.push(a[0]) if Liblinear.predict(model, a) == 2\n",
    "  y2.push(a[1]) if Liblinear.predict(model, a) == 2\n",
    "  x3.push(a[0]) if Liblinear.predict(model, a) == 3\n",
    "  y3.push(a[1]) if Liblinear.predict(model, a) == 3\n",
    "  i=i+1\n",
    "end\n",
    "\n",
    "# point at 6.3,4.9 has been wrongly classified as virginica \n",
    "# accuracy 94.4%\n",
    "# plot the points\n",
    "plot = Nyaplot::Plot.new\n",
    "sc = plot.add(:scatter, x1, y1)\n",
    "sc.color('#000')\n",
    "sc.tooltip_contents([:versicolor])\n",
    "sc = plot.add(:scatter, x2, y2)\n",
    "sc.color('#FFFF00')\n",
    "sc.tooltip_contents([:setosa])\n",
    "sc = plot.add(:scatter, x3, y3)\n",
    "sc.tooltip_contents([:virginica])\n",
    "sc.color('#FF0000')\n",
    "plot.x_label(\"Sepal Length\")\n",
    "plot.y_label(\"Petal Length\")\n",
    "plot.xrange [4,8]\n",
    "plot.yrange [0,8]\n",
    "plot.show"
   ]
  }
 ],
 "metadata": {
  "kernelspec": {
   "display_name": "Ruby 2.2.1",
   "language": "ruby",
   "name": "ruby"
  },
  "language_info": {
   "file_extension": ".rb",
   "mimetype": "application/x-ruby",
   "name": "ruby",
   "version": "2.2.1"
  }
 },
 "nbformat": 4,
 "nbformat_minor": 0
}
